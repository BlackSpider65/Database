{
 "cells": [
  {
   "cell_type": "markdown",
   "id": "087f08e8",
   "metadata": {},
   "source": [
    "### Question No :- 01"
   ]
  },
  {
   "cell_type": "markdown",
   "id": "85d8862a",
   "metadata": {},
   "source": [
    "Database :- A database is a structured collection of data that is organized and stored in a way that allows for efficient               retrieval, management, and manipulation of data. Databases are essential in the world of information                       technology, used for various purposes, including storing and managing large amounts of structured and                       unstructured data, supporting applications, and enabling data analysis."
   ]
  },
  {
   "cell_type": "markdown",
   "id": "94d32030",
   "metadata": {},
   "source": [
    "SQL Databases:- \n",
    "    \n",
    "Structured Data:- SQL databases are designed for structured data with well-defined schemas. They use tables to store data, and the schema defines the structure and relationships between data.\n",
    "\n",
    "ACID Compliance:- SQL databases adhere to ACID (Atomicity, Consistency, Isolation, Durability) properties, which ensure that database transactions are reliable, and data remains consistent even in the face of failures.\n",
    "\n",
    "Relational Model:- SQL databases use a relational model, where data is organized into tables with rows and columns. Relationships between tables are maintained through foreign keys.\n",
    "\n",
    "Query Language:- SQL databases use SQL as the query language for performing operations like INSERT, UPDATE, DELETE, and SELECT. SQL provides powerful querying capabilities and allows for complex data manipulation.\n",
    "\n",
    "Examples:- MySQL, PostgreSQL, Oracle, Microsoft SQL Server are some examples of SQL databases."
   ]
  },
  {
   "cell_type": "markdown",
   "id": "49ae67d1",
   "metadata": {},
   "source": [
    "NoSQL Databases:-\n",
    "\n",
    "Unstructured or Semi-structured Data:- NoSQL databases are designed to handle unstructured or semi-structured data. They                                          are more flexible and can store data in various formats, such as JSON, XML, or key-                                        value pairs.\n",
    "\n",
    "BASE Properties:- NoSQL databases often follow the BASE (Basically Available, Soft state, Eventually consistent) model,                       which prioritizes availability and performance over strict consistency.\n",
    "\n",
    "Various Data Models:- NoSQL databases come in various models, including document stores, key-value stores, column-family                         stores, and graph databases. The choice of model depends on the specific use case.\n",
    "\n",
    "Schema-less:- NoSQL databases are schema-less, meaning they allow for changes in data structure without requiring                         predefined schemas. This flexibility can be advantageous in rapidly changing environments.\n",
    "\n",
    "Examples:- MongoDB (a document store), Cassandra (a column-family store), Redis (a key-value store), and Neo4j (a graph                database) are examples of NoSQL databases."
   ]
  },
  {
   "cell_type": "markdown",
   "id": "83caeeae",
   "metadata": {},
   "source": [
    "### Question No:- 02"
   ]
  },
  {
   "cell_type": "markdown",
   "id": "e1f2eee4",
   "metadata": {},
   "source": [
    "DDL stands for Data Definition Language, which is a subset of SQL (Structured Query Language) used for defining and managing the structure of a database. DDL statements are used to create, modify, and delete database objects, such as tables, indexes, and constraints. They do not deal with the manipulation of data within the database; that's the role of DML (Data Manipulation Language) statements like SELECT, INSERT, UPDATE, and DELETE."
   ]
  },
  {
   "cell_type": "markdown",
   "id": "1808154f",
   "metadata": {},
   "source": [
    "CREATE:\n",
    "\n",
    "1) The CREATE statement is used to create new database objects, such as tables, indexes, or views.\n",
    "\n",
    "   Example: Creating a new table called \"Employees\" with columns for employee ID, name, and department:"
   ]
  },
  {
   "cell_type": "code",
   "execution_count": 4,
   "id": "a0a04f82",
   "metadata": {},
   "outputs": [
    {
     "ename": "SyntaxError",
     "evalue": "invalid syntax (1113052467.py, line 1)",
     "output_type": "error",
     "traceback": [
      "\u001b[1;36m  File \u001b[1;32m\"C:\\Users\\hp\\AppData\\Local\\Temp\\ipykernel_11800\\1113052467.py\"\u001b[1;36m, line \u001b[1;32m1\u001b[0m\n\u001b[1;33m    CREATE DATABASE test; #these help to create the database\u001b[0m\n\u001b[1;37m           ^\u001b[0m\n\u001b[1;31mSyntaxError\u001b[0m\u001b[1;31m:\u001b[0m invalid syntax\n"
     ]
    }
   ],
   "source": [
    "CREATE DATABASE test; #these help to create the database\n",
    "\n",
    "CREATE TABLE test_table(c1 INT, c2 FLOAT, c3 VARCHAR(50)); # these help to create the table"
   ]
  },
  {
   "cell_type": "markdown",
   "id": "9ff62f68",
   "metadata": {},
   "source": [
    "#### DROP:"
   ]
  },
  {
   "cell_type": "markdown",
   "id": "64bc46ca",
   "metadata": {},
   "source": [
    "The DROP command is used to delete existing database objects like tables, views, indexes, etc. It removes the entire structure and data associated with the object."
   ]
  },
  {
   "cell_type": "code",
   "execution_count": 5,
   "id": "42f989a8",
   "metadata": {},
   "outputs": [
    {
     "ename": "SyntaxError",
     "evalue": "invalid syntax (1647171473.py, line 3)",
     "output_type": "error",
     "traceback": [
      "\u001b[1;36m  File \u001b[1;32m\"C:\\Users\\hp\\AppData\\Local\\Temp\\ipykernel_11800\\1647171473.py\"\u001b[1;36m, line \u001b[1;32m3\u001b[0m\n\u001b[1;33m    DROP TABLE test_table;\u001b[0m\n\u001b[1;37m         ^\u001b[0m\n\u001b[1;31mSyntaxError\u001b[0m\u001b[1;31m:\u001b[0m invalid syntax\n"
     ]
    }
   ],
   "source": [
    "#Example\n",
    "\n",
    "DROP TABLE test_table;"
   ]
  },
  {
   "cell_type": "markdown",
   "id": "eb6c9dd2",
   "metadata": {},
   "source": [
    "#### ALTER:"
   ]
  },
  {
   "cell_type": "markdown",
   "id": "843c97e7",
   "metadata": {},
   "source": [
    "The ALTER command is used to modify the structure of an existing database object without dropping and recreating it entirely. It allows you to add, modify, or drop columns or constraints within a table."
   ]
  },
  {
   "cell_type": "code",
   "execution_count": 6,
   "id": "29c68a63",
   "metadata": {},
   "outputs": [
    {
     "ename": "SyntaxError",
     "evalue": "invalid syntax (1106445750.py, line 3)",
     "output_type": "error",
     "traceback": [
      "\u001b[1;36m  File \u001b[1;32m\"C:\\Users\\hp\\AppData\\Local\\Temp\\ipykernel_11800\\1106445750.py\"\u001b[1;36m, line \u001b[1;32m3\u001b[0m\n\u001b[1;33m    ALTER TABLE test_table\u001b[0m\n\u001b[1;37m          ^\u001b[0m\n\u001b[1;31mSyntaxError\u001b[0m\u001b[1;31m:\u001b[0m invalid syntax\n"
     ]
    }
   ],
   "source": [
    "# Example\n",
    "\n",
    "ALTER TABLE test_table\n",
    "ADE COLUME birthdate DATE;"
   ]
  },
  {
   "cell_type": "markdown",
   "id": "ae924a99",
   "metadata": {},
   "source": [
    "#### TRUNCATE:"
   ]
  },
  {
   "cell_type": "markdown",
   "id": "ded5cd32",
   "metadata": {},
   "source": [
    "The TRUNCATE command is used to remove all records from a table, but it retains the table structure. It is faster than the DELETE command, as it doesn't log individual row deletions and generally performs better on large tables."
   ]
  },
  {
   "cell_type": "code",
   "execution_count": 7,
   "id": "ea243cce",
   "metadata": {},
   "outputs": [
    {
     "ename": "SyntaxError",
     "evalue": "invalid syntax (988757020.py, line 3)",
     "output_type": "error",
     "traceback": [
      "\u001b[1;36m  File \u001b[1;32m\"C:\\Users\\hp\\AppData\\Local\\Temp\\ipykernel_11800\\988757020.py\"\u001b[1;36m, line \u001b[1;32m3\u001b[0m\n\u001b[1;33m    TRUNCATE test_table;\u001b[0m\n\u001b[1;37m             ^\u001b[0m\n\u001b[1;31mSyntaxError\u001b[0m\u001b[1;31m:\u001b[0m invalid syntax\n"
     ]
    }
   ],
   "source": [
    "#for Example\n",
    "\n",
    "TRUNCATE test_table;"
   ]
  },
  {
   "cell_type": "markdown",
   "id": "04f33e2d",
   "metadata": {},
   "source": [
    "### Question No :- 03"
   ]
  },
  {
   "cell_type": "markdown",
   "id": "54796c7e",
   "metadata": {},
   "source": [
    "DML stands for Data Manipulation Language, which is a subset of SQL (Structured Query Language) used to manipulate data stored in a database. DML commands are primarily used to insert, update, retrieve, and delete data within tables."
   ]
  },
  {
   "cell_type": "markdown",
   "id": "02e10db0",
   "metadata": {},
   "source": [
    "#### NSERT:-"
   ]
  },
  {
   "cell_type": "markdown",
   "id": "40807f07",
   "metadata": {},
   "source": [
    "The INSERT command is used to add new records or rows into a table. It allows you to specify the values for each column or a subset of columns for the new row."
   ]
  },
  {
   "cell_type": "code",
   "execution_count": null,
   "id": "74b0a2ec",
   "metadata": {},
   "outputs": [],
   "source": [
    "#Example\n",
    "INSERT INTO users (user_id, username, email)\n",
    "VALUES (1, 'john_doe', 'john@example.com');"
   ]
  },
  {
   "cell_type": "markdown",
   "id": "9646f36d",
   "metadata": {},
   "source": [
    "#### UPDATE :-"
   ]
  },
  {
   "cell_type": "markdown",
   "id": "d8f81a0d",
   "metadata": {},
   "source": [
    "The UPDATE command is used to modify existing records within a table. It allows you to change the values of specific columns in one or more rows based on certain conditions."
   ]
  },
  {
   "cell_type": "code",
   "execution_count": null,
   "id": "0d1bff2a",
   "metadata": {},
   "outputs": [],
   "source": [
    "# example\n",
    "\n",
    "UPDATE users\n",
    "SET email = 'john_doe@example.com'\n",
    "WHERE user_id = 1;"
   ]
  },
  {
   "cell_type": "markdown",
   "id": "9bd7815d",
   "metadata": {},
   "source": [
    "#### DELET :-"
   ]
  },
  {
   "cell_type": "markdown",
   "id": "1ad400e4",
   "metadata": {},
   "source": [
    "The DELETE command is used to remove one or more records from a table based on specified conditions. It removes entire rows that match the specified criteria. "
   ]
  },
  {
   "cell_type": "code",
   "execution_count": null,
   "id": "3557d1b2",
   "metadata": {},
   "outputs": [],
   "source": [
    "# Example\n",
    "\n",
    "DELETE FROM users\n",
    "WHERE user_id = 1;"
   ]
  },
  {
   "cell_type": "markdown",
   "id": "e4a71200",
   "metadata": {},
   "source": [
    "### Question No :- 04"
   ]
  },
  {
   "cell_type": "markdown",
   "id": "627aa67e",
   "metadata": {},
   "source": [
    "DQL stands for Data Query Language, and it refers to the subset of SQL (Structured Query Language) used to retrieve or fetch data from a database. The primary command used in DQL is the SELECT statement."
   ]
  },
  {
   "cell_type": "code",
   "execution_count": null,
   "id": "305ce001",
   "metadata": {},
   "outputs": [],
   "source": [
    "# Example\n",
    "SELECT column1, column2, ...\n",
    "FROM table_name\n",
    "WHERE condition;"
   ]
  },
  {
   "cell_type": "markdown",
   "id": "fe7f45e0",
   "metadata": {},
   "source": [
    "### Question No :- 05"
   ]
  },
  {
   "cell_type": "markdown",
   "id": "09a3a078",
   "metadata": {},
   "source": [
    "Primary Key and Foreign Key are two concepts in relational databases that establish relationships between tables and ensure data integrity."
   ]
  },
  {
   "cell_type": "markdown",
   "id": "8f06593d",
   "metadata": {},
   "source": [
    "#### Primary Key :-"
   ]
  },
  {
   "cell_type": "markdown",
   "id": "60cbd211",
   "metadata": {},
   "source": [
    "* Primary Key is a column or a set of columns in a table that uniquely identifies each row or record in that table.\n",
    "\n",
    "* It must contain unique values and cannot have NULL values.\n",
    "\n",
    "* A table can have only one Primary Key.\n",
    "\n",
    "* Primary Keys are used to ensure data integrity, enforce entity integrity, and establish relationships between tables.\n",
    "  Typically, Primary Keys are used to link with Foreign Keys in other tables.\n",
    "  "
   ]
  },
  {
   "cell_type": "code",
   "execution_count": null,
   "id": "e06fb8e3",
   "metadata": {},
   "outputs": [],
   "source": [
    "# Example\n",
    "CREATE TABLE students (\n",
    "    student_id INT PRIMARY KEY,\n",
    "    first_name VARCHAR(50),\n",
    "    last_name VARCHAR(50),\n",
    "    age INT\n",
    ");"
   ]
  },
  {
   "cell_type": "markdown",
   "id": "769dbfff",
   "metadata": {},
   "source": [
    "#### Foreign Key :- "
   ]
  },
  {
   "cell_type": "markdown",
   "id": "428bf421",
   "metadata": {},
   "source": [
    "* A Foreign Key is a column or a set of columns in a table that establishes a link between data in two tables.\n",
    "\n",
    "* It creates a relationship between the Foreign Key column(s) in one table and the Primary Key column(s) in another table.\n",
    "\n",
    "* Foreign Keys ensure referential integrity, meaning that the values in the Foreign Key column(s) must match the values in   the associated Primary Key column(s) in another table or be NULL.\n",
    "\n",
    "* They help maintain consistency and enforce relationships between related tables.\n"
   ]
  },
  {
   "cell_type": "code",
   "execution_count": null,
   "id": "890e6bf4",
   "metadata": {},
   "outputs": [],
   "source": [
    "# Example\n",
    "\n",
    "CREATE TABLE grades (\n",
    "    grade_id INT PRIMARY KEY,\n",
    "    student_id INT,\n",
    "    grade VARCHAR(2),\n",
    "    FOREIGN KEY (student_id) REFERENCES students(student_id)\n",
    ");"
   ]
  },
  {
   "cell_type": "markdown",
   "id": "b5333cf7",
   "metadata": {},
   "source": [
    "### Question No :- 06"
   ]
  },
  {
   "cell_type": "code",
   "execution_count": null,
   "id": "dce562e4",
   "metadata": {},
   "outputs": [],
   "source": [
    "import mysql.connector\n",
    "\n",
    "\n",
    "try:\n",
    "    conn = mysql.connector.connect(\n",
    "        host=\"your_host\",\n",
    "        user=\"your_username\",\n",
    "        password=\"your_password\",\n",
    "        database=\"your_database\"\n",
    "    )\n",
    "    print(\"Connected to MySQL!\")\n",
    "except mysql.connector.Error as err:\n",
    "    print(f\"Error: {err}\")\n",
    "    exit(1)\n",
    "\n",
    "\n",
    "cursor = conn.cursor()\n",
    "\n",
    "\n",
    "sql_query = \"SELECT * FROM your_table\"\n",
    "\n",
    "\n",
    "try:\n",
    "    cursor.execute(sql_query)\n",
    "    print(\"Query executed successfully!\")\n",
    "\n",
    "   \n",
    "    rows = cursor.fetchall()\n",
    "\n",
    "    \n",
    "    for row in rows:\n",
    "        print(row)\n",
    "\n",
    "except mysql.connector.Error as err:\n",
    "    print(f\"Error executing query: {err}\")\n",
    "\n",
    "\n",
    "cursor.close()\n",
    "conn.close()\n"
   ]
  },
  {
   "cell_type": "markdown",
   "id": "7c4b979b",
   "metadata": {},
   "source": [
    "cursor() method:- This method creates a cursor object that allows Python to interact with the MySQL database. The cursor is                   used to execute SQL queries and fetch results.\n",
    "\n",
    "execute() method:- The execute() method of the cursor object is used to execute SQL queries passed as strings. It takes the                    SQL query as a parameter and executes it within the MySQL database.\n"
   ]
  },
  {
   "cell_type": "markdown",
   "id": "6f48de1c",
   "metadata": {},
   "source": [
    "### Question No :- 07"
   ]
  },
  {
   "cell_type": "markdown",
   "id": "b25c2dbc",
   "metadata": {},
   "source": [
    "In SQL, when constructing a query, the order of execution of SQL clauses is generally as follows:\n",
    "\n"
   ]
  },
  {
   "cell_type": "markdown",
   "id": "04c9368b",
   "metadata": {},
   "source": [
    "SELECT: This clause specifies the columns you want to retrieve data from. It's typically the first clause to be evaluated in a query.\n",
    "\n",
    "\n",
    "FROM: The FROM clause indicates the tables from which the data will be retrieved. It follows the SELECT clause and specifies the source tables involved in the query.\n",
    "\n",
    "\n",
    "WHERE:- The WHERE clause is used to filter rows based on specific conditions. It follows the FROM clause and limits the             rows returned by applying conditions to the data.\n",
    "\n",
    "\n",
    "GROUP BY:- The GROUP BY clause is used to group rows that have the same values in specified columns. It follows the WHERE              clause and precedes the HAVING clause.\n",
    "\n",
    "\n",
    "HAVING:- The HAVING clause filters groups based on specific conditions defined after a GROUP BY clause. It is used to apply          conditions to grouped rows.\n",
    "\n",
    "\n",
    "ORDER BY:- The ORDER BY clause is used to sort the result set by specified columns either in ascending or descending order.            It comes after the WHERE, GROUP BY, and HAVING clauses.\n",
    "\n",
    "\n",
    "LIMIT/OFFSET (Optional):- These clauses are used for controlling the number of rows returned and for pagination. They appear at the end of the query and can limit the number of rows retrieved or specify the starting point for rows to be returned.\n",
    "\n",
    "\n"
   ]
  },
  {
   "cell_type": "code",
   "execution_count": null,
   "id": "d631836e",
   "metadata": {},
   "outputs": [],
   "source": []
  }
 ],
 "metadata": {
  "kernelspec": {
   "display_name": "Python 3 (ipykernel)",
   "language": "python",
   "name": "python3"
  },
  "language_info": {
   "codemirror_mode": {
    "name": "ipython",
    "version": 3
   },
   "file_extension": ".py",
   "mimetype": "text/x-python",
   "name": "python",
   "nbconvert_exporter": "python",
   "pygments_lexer": "ipython3",
   "version": "3.9.13"
  }
 },
 "nbformat": 4,
 "nbformat_minor": 5
}
